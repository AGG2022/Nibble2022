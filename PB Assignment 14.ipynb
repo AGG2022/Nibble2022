{
 "cells": [
  {
   "cell_type": "code",
   "execution_count": null,
   "id": "0405ec67",
   "metadata": {},
   "outputs": [],
   "source": [
    "1. What does RGBA stand for?\n",
    "Ans- Computer programs often represent a color in an image as an RGBA value. An RGBA value is a group of numbers that \n",
    "specify the amount of red, green, blue, and alpha (or transparency) in a color. RGBA values are represented by \n",
    "a tuple of four integer values. For example, the color red is represented by (255, 0, 0, 255)"
   ]
  },
  {
   "cell_type": "code",
   "execution_count": null,
   "id": "acc85400",
   "metadata": {},
   "outputs": [],
   "source": [
    "2. From the Pillow module, how do you get the RGBA value of any images?\n",
    "Ans- We need to import \"ImageColor\" from PIL module and then by using \"ImageColor.getcolor('red','RGBA')\", we can get \n",
    "RGBA value of any image. E.g."
   ]
  },
  {
   "cell_type": "code",
   "execution_count": 1,
   "id": "36572e51",
   "metadata": {},
   "outputs": [
    {
     "data": {
      "text/plain": [
       "(255, 0, 0, 255)"
      ]
     },
     "execution_count": 1,
     "metadata": {},
     "output_type": "execute_result"
    }
   ],
   "source": [
    "from PIL import ImageColor\n",
    "ImageColor.getcolor('red','RGBA')"
   ]
  },
  {
   "cell_type": "code",
   "execution_count": null,
   "id": "a66f6dfd",
   "metadata": {},
   "outputs": [],
   "source": [
    "3. What is a box tuple, and how does it work?\n",
    "Ans- Many of Pillow’s functions and methods take a box tuple argument. This means Pillow is expecting a tuple \n",
    "of four integer coordinates that represent a rectangular region in an image.\n",
    "Left: The x-coordinate of the leftmost edge of the box.\n",
    "Top: The y-coordinate of the top edge of the box.\n",
    "Right: The x-coordinate of one pixel to the right of the rightmost edge of the box. \n",
    "This integer must be greater than the left integer.\n",
    "Bottom: The y-coordinate of one pixel lower than the bottom edge of the box. \n",
    "This integer must be greater than the top integer.\n",
    "\n",
    " Note that the box includes the left and top coordinates and goes up to but does not include the right \n",
    "and bottom coordinates. For example, the box tuple (3, 1, 9, 6)"
   ]
  },
  {
   "cell_type": "code",
   "execution_count": null,
   "id": "dc6db9cb",
   "metadata": {},
   "outputs": [],
   "source": [
    "4. Use your image and load in notebook then, How can you find out the width and height of an Image object?\n",
    "Ans- \n",
    "from PIL import Image\n",
    "img=Image.open('cake.jpg','r')\n",
    "print('width & height is: ',img.size)\n",
    "img"
   ]
  },
  {
   "cell_type": "code",
   "execution_count": null,
   "id": "7f8e9b21",
   "metadata": {},
   "outputs": [],
   "source": [
    "5. What method would you call to get Image object for a 100×100 image, excluding the lower-left\n",
    "quarter of it?\n",
    "Ans- \n",
    "from PIL import Image\n",
    "im=Image.new(\"RGBA\",(100,100))\n",
    "im.getpixel((0,0))\n",
    "for x in range(100):\n",
    "    for y in range (50):\n",
    "        im.putpixel((x,y),(255,255,0,255))\n",
    "for x in range(50,100):\n",
    "    for y in range (50,100):\n",
    "        im.putpixel((x,y),(255,255,0,255))\n",
    "im"
   ]
  },
  {
   "cell_type": "code",
   "execution_count": null,
   "id": "545c2cc7",
   "metadata": {},
   "outputs": [],
   "source": [
    "6. After making changes to an Image object, how could you save it as an image file?\n",
    "Ans- \"Image.save('filepath')\" is used to save image file."
   ]
  },
  {
   "cell_type": "code",
   "execution_count": null,
   "id": "a92b6e52",
   "metadata": {},
   "outputs": [],
   "source": [
    "7. What module contains Pillow’s shape-drawing code?\n",
    "Ans-  The ‘ImageDraw’ module provides simple 2D graphics support for Image Object. Generally, we use this module \n",
    "to create new images, annotate or retouch existing images and to generate graphics on the fly for web use.\n",
    "\n",
    "from PIL import Image, ImageDraw\n",
    "im=Image.open(\"cake.jpg\")\n",
    "draw=ImageDraw.Draw(im)\n",
    "draw.line((80, 80, 255, 200), fill=(255, 255, 255), width=10)\n",
    "im"
   ]
  },
  {
   "cell_type": "code",
   "execution_count": null,
   "id": "de5ab2b6",
   "metadata": {},
   "outputs": [],
   "source": [
    "8. Image objects do not have drawing methods. What kind of object does? How do you get this kind\n",
    "of object?\n",
    "Ans- Image objects do not have drawing methods. To do so we require 'ImageDraw' module to draw. We can get it from Pillow(PIL)"
   ]
  }
 ],
 "metadata": {
  "kernelspec": {
   "display_name": "Python 3 (ipykernel)",
   "language": "python",
   "name": "python3"
  },
  "language_info": {
   "codemirror_mode": {
    "name": "ipython",
    "version": 3
   },
   "file_extension": ".py",
   "mimetype": "text/x-python",
   "name": "python",
   "nbconvert_exporter": "python",
   "pygments_lexer": "ipython3",
   "version": "3.9.7"
  }
 },
 "nbformat": 4,
 "nbformat_minor": 5
}

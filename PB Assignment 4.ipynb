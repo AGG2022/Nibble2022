{
 "cells": [
  {
   "cell_type": "code",
   "execution_count": null,
   "id": "fe8802f6",
   "metadata": {},
   "outputs": [],
   "source": [
    "1.\tWhat exactly is []?\n",
    "Ans-[ ] is an empty list. In Python, a list is created by placing elements inside square brackets [] \n"
   ]
  },
  {
   "cell_type": "code",
   "execution_count": null,
   "id": "ee07151f",
   "metadata": {},
   "outputs": [],
   "source": [
    "2.\tIn a list of values stored in a variable called spam, how would you assign the value 'hello' as the third value? (Assume [2, 4, 6, 8, 10] are in spam.)\n",
    "Ans-  spam[2] = 'hello' (Notice that the third value in a list is at index 2 because the first index is 0.)\n"
   ]
  },
  {
   "cell_type": "code",
   "execution_count": null,
   "id": "ef68e376",
   "metadata": {},
   "outputs": [],
   "source": [
    "Let's pretend the spam includes the list ['a', 'b', 'c', 'd'] for the next three queries."
   ]
  },
  {
   "cell_type": "code",
   "execution_count": null,
   "id": "243e4277",
   "metadata": {},
   "outputs": [],
   "source": [
    "3.\tWhat is the value of spam[int(int('3' * 2) / 11)]?\n",
    "Ans- 'd' (Note that '3' * 2 is the string '33', which is passed to int() before being divided by 11. This eventually evaluates to 3. Expressions can be used wherever values are used.)"
   ]
  },
  {
   "cell_type": "code",
   "execution_count": 23,
   "id": "2a85eb91",
   "metadata": {},
   "outputs": [
    {
     "data": {
      "text/plain": [
       "'d'"
      ]
     },
     "execution_count": 23,
     "metadata": {},
     "output_type": "execute_result"
    }
   ],
   "source": [
    "spam=['a','b','c','d']\n",
    "spam[int(int('3'*2)/11)]"
   ]
  },
  {
   "cell_type": "code",
   "execution_count": 4,
   "id": "92839d8d",
   "metadata": {},
   "outputs": [],
   "source": [
    "4. What is the value of spam[-1]?"
   ]
  },
  {
   "cell_type": "code",
   "execution_count": 5,
   "id": "a25b9164",
   "metadata": {},
   "outputs": [
    {
     "data": {
      "text/plain": [
       "'d'"
      ]
     },
     "execution_count": 5,
     "metadata": {},
     "output_type": "execute_result"
    }
   ],
   "source": [
    "spam[-1]"
   ]
  },
  {
   "cell_type": "code",
   "execution_count": null,
   "id": "b7dbe5cd",
   "metadata": {},
   "outputs": [],
   "source": [
    "5. What is the value of spam[:2]?"
   ]
  },
  {
   "cell_type": "code",
   "execution_count": 7,
   "id": "aaf707fc",
   "metadata": {},
   "outputs": [
    {
     "data": {
      "text/plain": [
       "['a', 'b']"
      ]
     },
     "execution_count": 7,
     "metadata": {},
     "output_type": "execute_result"
    }
   ],
   "source": [
    "spam[:2]"
   ]
  },
  {
   "cell_type": "code",
   "execution_count": null,
   "id": "0c0f35e2",
   "metadata": {},
   "outputs": [],
   "source": [
    "Let's pretend bacon has the list [3.14, 'cat,' 11, 'cat,' True] for the next three questions."
   ]
  },
  {
   "cell_type": "code",
   "execution_count": null,
   "id": "5325baa4",
   "metadata": {},
   "outputs": [],
   "source": [
    "6. What is the value of bacon.index('cat')?"
   ]
  },
  {
   "cell_type": "code",
   "execution_count": 11,
   "id": "e4cbe1b7",
   "metadata": {},
   "outputs": [],
   "source": [
    " bacon=[3.14, 'cat', 11,'cat', True]"
   ]
  },
  {
   "cell_type": "code",
   "execution_count": 14,
   "id": "727425d8",
   "metadata": {},
   "outputs": [
    {
     "data": {
      "text/plain": [
       "1"
      ]
     },
     "execution_count": 14,
     "metadata": {},
     "output_type": "execute_result"
    }
   ],
   "source": [
    "bacon.index('cat')"
   ]
  },
  {
   "cell_type": "code",
   "execution_count": null,
   "id": "e140092c",
   "metadata": {},
   "outputs": [],
   "source": [
    "7. How does bacon.append(99) change the look of the list value in bacon?"
   ]
  },
  {
   "cell_type": "code",
   "execution_count": 15,
   "id": "27ca9d11",
   "metadata": {},
   "outputs": [],
   "source": [
    "bacon.append(99)"
   ]
  },
  {
   "cell_type": "code",
   "execution_count": 16,
   "id": "807f55e9",
   "metadata": {},
   "outputs": [
    {
     "data": {
      "text/plain": [
       "[3.14, 'cat', 11, 'cat', True, 'cat', 99]"
      ]
     },
     "execution_count": 16,
     "metadata": {},
     "output_type": "execute_result"
    }
   ],
   "source": [
    "bacon"
   ]
  },
  {
   "cell_type": "code",
   "execution_count": null,
   "id": "5d5dbe42",
   "metadata": {},
   "outputs": [],
   "source": [
    "8. How does bacon.remove('cat') change the look of the list in bacon?"
   ]
  },
  {
   "cell_type": "code",
   "execution_count": 17,
   "id": "573d6a63",
   "metadata": {},
   "outputs": [],
   "source": [
    "bacon.remove('cat')"
   ]
  },
  {
   "cell_type": "code",
   "execution_count": 18,
   "id": "8d2d2265",
   "metadata": {},
   "outputs": [
    {
     "data": {
      "text/plain": [
       "[3.14, 11, 'cat', True, 'cat', 99]"
      ]
     },
     "execution_count": 18,
     "metadata": {},
     "output_type": "execute_result"
    }
   ],
   "source": [
    "bacon"
   ]
  },
  {
   "cell_type": "code",
   "execution_count": null,
   "id": "61130720",
   "metadata": {},
   "outputs": [],
   "source": [
    "9. What are the list concatenation and list replication operators?\n",
    "Ans- The operator for list concatenation is +, while the operator for replication is *. (This is the same as for strings.)\n"
   ]
  },
  {
   "cell_type": "code",
   "execution_count": null,
   "id": "fa47b741",
   "metadata": {},
   "outputs": [],
   "source": [
    "10. What is difference between the list methods append() and insert()?\n",
    "Ans- Append everytime adds the character at the end of the list \n",
    "     Insert can insert or add charater anywhere in the list "
   ]
  },
  {
   "cell_type": "code",
   "execution_count": null,
   "id": "4d64a94c",
   "metadata": {},
   "outputs": [],
   "source": [
    "11. What are the two methods for removing items from a list?\n",
    "Ans- The methods are remove(), pop() and clear(). It helps to remove the very first given element matching from the list.\n",
    "     The pop() method removes an element from the list based on the index given.\n",
    "     The clear() method will remove all the elements present in the list."
   ]
  },
  {
   "cell_type": "code",
   "execution_count": null,
   "id": "2d477375",
   "metadata": {},
   "outputs": [],
   "source": [
    "12.Describe how list values and string values are identical.\n",
    "Ans- copy.copy(x)\n",
    "Return a shallow copy of x.\n",
    "\n",
    "copy.deepcopy(x[, memo])\n",
    "Return a deep copy of x.\n",
    "A shallow copy constructs a new compound object and then (to the extent possible) inserts references into it to the objects found in the original.\n",
    "\n",
    "A deep copy constructs a new compound object and then, recursively, inserts copies into it of the objects found in the original."
   ]
  },
  {
   "cell_type": "code",
   "execution_count": null,
   "id": "f24c0a8e",
   "metadata": {},
   "outputs": [],
   "source": [
    "13.What's the difference between tuples and lists?\n",
    "Ans- Tuples use (), while lists use  []\n",
    "Tuples is immutable collections, tuples cannot be changed while the lists can be modified.\n",
    "Tuple data type is appropriate for accessing the elements. The list is better for performing operations, such as insertion and deletion.\n",
    "Tuple does not have many built-in methods whereas lists have built-in methods.\n",
    "Tuple consume less memory as compared to the list"
   ]
  },
  {
   "cell_type": "code",
   "execution_count": null,
   "id": "084ea8e0",
   "metadata": {},
   "outputs": [],
   "source": [
    "14. How do you type a tuple value that only contains the integer 42?"
   ]
  },
  {
   "cell_type": "code",
   "execution_count": 20,
   "id": "786cf231",
   "metadata": {},
   "outputs": [],
   "source": [
    "t=(42, True, 234.23, 45+23j, \"sunlight\", True)"
   ]
  },
  {
   "cell_type": "code",
   "execution_count": 21,
   "id": "8e43b9ec",
   "metadata": {},
   "outputs": [
    {
     "data": {
      "text/plain": [
       "int"
      ]
     },
     "execution_count": 21,
     "metadata": {},
     "output_type": "execute_result"
    }
   ],
   "source": [
    "type(42)"
   ]
  },
  {
   "cell_type": "code",
   "execution_count": null,
   "id": "4b6d0d09",
   "metadata": {},
   "outputs": [],
   "source": [
    "15. How do you get a list value's tuple form? How do you get a tuple value's list form?"
   ]
  },
  {
   "cell_type": "code",
   "execution_count": 24,
   "id": "d9fb3d5e",
   "metadata": {},
   "outputs": [
    {
     "data": {
      "text/plain": [
       "(12, 34, 56, 'moonlight', 234.23)"
      ]
     },
     "execution_count": 24,
     "metadata": {},
     "output_type": "execute_result"
    }
   ],
   "source": [
    "l=[12,34,56,'moonlight',234.23]\n",
    "tuple(l)"
   ]
  },
  {
   "cell_type": "code",
   "execution_count": null,
   "id": "471356c5",
   "metadata": {},
   "outputs": [],
   "source": [
    "16. Variables that \"contain\" list values are not necessarily lists themselves. Instead, what do they contain?"
   ]
  },
  {
   "cell_type": "code",
   "execution_count": 25,
   "id": "f264e372",
   "metadata": {},
   "outputs": [
    {
     "data": {
      "text/plain": [
       "[23, 567, (34+23j), True, 'sunlight']"
      ]
     },
     "execution_count": 25,
     "metadata": {},
     "output_type": "execute_result"
    }
   ],
   "source": [
    "t=(23,567,34+23j,True,\"sunlight\")\n",
    "list(t)"
   ]
  },
  {
   "cell_type": "code",
   "execution_count": null,
   "id": "b36bcccb",
   "metadata": {},
   "outputs": [],
   "source": [
    "17. How do you distinguish between copy.copy() and copy.deepcopy()?"
   ]
  },
  {
   "cell_type": "code",
   "execution_count": null,
   "id": "4c21f5b5",
   "metadata": {},
   "outputs": [],
   "source": [
    "A shallow copy constructs a new compound object and then (to the extent possible) inserts references into it to the objects found in the original. A deep copy constructs a new compound object and then, recursively, inserts copies into it of the objects found in the original."
   ]
  }
 ],
 "metadata": {
  "kernelspec": {
   "display_name": "Python 3 (ipykernel)",
   "language": "python",
   "name": "python3"
  },
  "language_info": {
   "codemirror_mode": {
    "name": "ipython",
    "version": 3
   },
   "file_extension": ".py",
   "mimetype": "text/x-python",
   "name": "python",
   "nbconvert_exporter": "python",
   "pygments_lexer": "ipython3",
   "version": "3.9.7"
  }
 },
 "nbformat": 4,
 "nbformat_minor": 5
}

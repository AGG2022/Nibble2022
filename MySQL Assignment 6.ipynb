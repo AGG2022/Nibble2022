{
 "cells": [
  {
   "cell_type": "code",
   "execution_count": 15,
   "id": "decea759",
   "metadata": {},
   "outputs": [],
   "source": [
    "import mysql.connector as conn\n",
    "mydb = conn.connect(host = 'localhost', user= 'root', password = '#GDG2305gd01#')\n",
    "cursor= mydb.cursor()\n",
    "\n"
   ]
  },
  {
   "cell_type": "code",
   "execution_count": 2,
   "id": "0577c666",
   "metadata": {},
   "outputs": [
    {
     "data": {
      "text/plain": [
       "<mysql.connector.connection_cext.CMySQLConnection at 0x244997cc4c0>"
      ]
     },
     "execution_count": 2,
     "metadata": {},
     "output_type": "execute_result"
    }
   ],
   "source": [
    "mydb"
   ]
  },
  {
   "cell_type": "code",
   "execution_count": 3,
   "id": "2f4d8101",
   "metadata": {},
   "outputs": [
    {
     "data": {
      "text/plain": [
       "[('bonus',), ('worker',)]"
      ]
     },
     "execution_count": 3,
     "metadata": {},
     "output_type": "execute_result"
    }
   ],
   "source": [
    "cursor.execute(\"use Organization\")\n",
    "cursor.execute(\"show tables\")\n",
    "cursor.fetchall()"
   ]
  },
  {
   "cell_type": "code",
   "execution_count": 4,
   "id": "9053a584",
   "metadata": {},
   "outputs": [
    {
     "data": {
      "text/plain": [
       "[(1, 'Monika', 'Arora', 100000, datetime.datetime(2014, 2, 20, 9, 0), 'HR'),\n",
       " (2,\n",
       "  'Niharika',\n",
       "  'Verma',\n",
       "  80000,\n",
       "  datetime.datetime(2014, 6, 11, 9, 0),\n",
       "  'Admin'),\n",
       " (3, 'Vishal', 'Singhal', 300000, datetime.datetime(2014, 2, 20, 9, 0), 'HR'),\n",
       " (4,\n",
       "  'Amitabh',\n",
       "  'Singh',\n",
       "  500000,\n",
       "  datetime.datetime(2014, 2, 20, 9, 0),\n",
       "  'Admin'),\n",
       " (5, 'Vivek', 'Bhati', 500000, datetime.datetime(2014, 6, 11, 9, 0), 'Admin'),\n",
       " (6,\n",
       "  'Vipul',\n",
       "  'Diwan',\n",
       "  200000,\n",
       "  datetime.datetime(2014, 6, 11, 9, 0),\n",
       "  'Account'),\n",
       " (7,\n",
       "  'Satish',\n",
       "  'Kumar',\n",
       "  75000,\n",
       "  datetime.datetime(2014, 1, 20, 9, 0),\n",
       "  'Account'),\n",
       " (8,\n",
       "  'Geetika',\n",
       "  'Chauhan',\n",
       "  90000,\n",
       "  datetime.datetime(2014, 4, 11, 9, 0),\n",
       "  'Admin'),\n",
       " (1, 'Monika', 'Arora', 100000, datetime.datetime(2014, 2, 20, 9, 0), 'HR'),\n",
       " (2,\n",
       "  'Niharika',\n",
       "  'Verma',\n",
       "  80000,\n",
       "  datetime.datetime(2014, 6, 11, 9, 0),\n",
       "  'Admin'),\n",
       " (3, 'Vishal', 'Singhal', 300000, datetime.datetime(2014, 2, 20, 9, 0), 'HR'),\n",
       " (4,\n",
       "  'Amitabh',\n",
       "  'Singh',\n",
       "  500000,\n",
       "  datetime.datetime(2014, 2, 20, 9, 0),\n",
       "  'Admin'),\n",
       " (5, 'Vivek', 'Bhati', 500000, datetime.datetime(2014, 6, 11, 9, 0), 'Admin'),\n",
       " (6,\n",
       "  'Vipul',\n",
       "  'Diwan',\n",
       "  200000,\n",
       "  datetime.datetime(2014, 6, 11, 9, 0),\n",
       "  'Account'),\n",
       " (7,\n",
       "  'Satish',\n",
       "  'Kumar',\n",
       "  75000,\n",
       "  datetime.datetime(2014, 1, 20, 9, 0),\n",
       "  'Account'),\n",
       " (8,\n",
       "  'Geetika',\n",
       "  'Chauhan',\n",
       "  90000,\n",
       "  datetime.datetime(2014, 4, 11, 9, 0),\n",
       "  'Admin')]"
      ]
     },
     "execution_count": 4,
     "metadata": {},
     "output_type": "execute_result"
    }
   ],
   "source": [
    "cursor.execute(\"select * from Organization.Worker\")\n",
    "cursor.fetchall()"
   ]
  },
  {
   "cell_type": "code",
   "execution_count": 5,
   "id": "8383c9c3",
   "metadata": {},
   "outputs": [
    {
     "data": {
      "text/plain": [
       "[(1, 'Monika', 'Arora', 100000, datetime.datetime(2014, 2, 20, 9, 0), 'HR'),\n",
       " (3, 'Vishal', 'Singhal', 300000, datetime.datetime(2014, 2, 20, 9, 0), 'HR'),\n",
       " (4,\n",
       "  'Amitabh',\n",
       "  'Singh',\n",
       "  500000,\n",
       "  datetime.datetime(2014, 2, 20, 9, 0),\n",
       "  'Admin'),\n",
       " (1, 'Monika', 'Arora', 100000, datetime.datetime(2014, 2, 20, 9, 0), 'HR'),\n",
       " (3, 'Vishal', 'Singhal', 300000, datetime.datetime(2014, 2, 20, 9, 0), 'HR'),\n",
       " (4,\n",
       "  'Amitabh',\n",
       "  'Singh',\n",
       "  500000,\n",
       "  datetime.datetime(2014, 2, 20, 9, 0),\n",
       "  'Admin')]"
      ]
     },
     "execution_count": 5,
     "metadata": {},
     "output_type": "execute_result"
    }
   ],
   "source": [
    "#Q-1. Write an SQL query to print details of the Workers who have joined in Feb’2014.\n",
    "\n",
    "cursor.execute(\"Select * from Organization.Worker where year(JOINING_DATE) = 2014 and month(JOINING_DATE) = 2\")\n",
    "cursor.fetchall()"
   ]
  },
  {
   "cell_type": "code",
   "execution_count": 16,
   "id": "28c5a229",
   "metadata": {},
   "outputs": [
    {
     "data": {
      "text/plain": [
       "[('Monika', datetime.datetime(2014, 2, 20, 9, 0), 2),\n",
       " ('Niharika', datetime.datetime(2014, 6, 11, 9, 0), 2),\n",
       " ('Vishal', datetime.datetime(2014, 2, 20, 9, 0), 2),\n",
       " ('Amitabh', datetime.datetime(2014, 2, 20, 9, 0), 2),\n",
       " ('Vivek', datetime.datetime(2014, 6, 11, 9, 0), 2),\n",
       " ('Vipul', datetime.datetime(2014, 6, 11, 9, 0), 2),\n",
       " ('Satish', datetime.datetime(2014, 1, 20, 9, 0), 2),\n",
       " ('Geetika', datetime.datetime(2014, 4, 11, 9, 0), 2)]"
      ]
     },
     "execution_count": 16,
     "metadata": {},
     "output_type": "execute_result"
    }
   ],
   "source": [
    "#Q-2. Write an SQL query to fetch duplicate records having matching data in some fields of a table.\n",
    "\n",
    "cursor.execute(\"SELECT FIRST_NAME, JOINING_DATE, COUNT(*) FROM Organization.Worker GROUP BY FIRST_NAME, JOINING_DATE HAVING COUNT(*) > 1\")\n",
    "cursor.fetchall()               "
   ]
  },
  {
   "cell_type": "code",
   "execution_count": 20,
   "id": "435f8c02",
   "metadata": {},
   "outputs": [
    {
     "data": {
      "text/plain": [
       "[(1, 'Monika', 'Arora', 100000, datetime.datetime(2014, 2, 20, 9, 0), 'HR', 2),\n",
       " (2,\n",
       "  'Niharika',\n",
       "  'Verma',\n",
       "  80000,\n",
       "  datetime.datetime(2014, 6, 11, 9, 0),\n",
       "  'Admin',\n",
       "  2),\n",
       " (3,\n",
       "  'Vishal',\n",
       "  'Singhal',\n",
       "  300000,\n",
       "  datetime.datetime(2014, 2, 20, 9, 0),\n",
       "  'HR',\n",
       "  2),\n",
       " (4,\n",
       "  'Amitabh',\n",
       "  'Singh',\n",
       "  500000,\n",
       "  datetime.datetime(2014, 2, 20, 9, 0),\n",
       "  'Admin',\n",
       "  2),\n",
       " (5,\n",
       "  'Vivek',\n",
       "  'Bhati',\n",
       "  500000,\n",
       "  datetime.datetime(2014, 6, 11, 9, 0),\n",
       "  'Admin',\n",
       "  2),\n",
       " (6,\n",
       "  'Vipul',\n",
       "  'Diwan',\n",
       "  200000,\n",
       "  datetime.datetime(2014, 6, 11, 9, 0),\n",
       "  'Account',\n",
       "  2),\n",
       " (7,\n",
       "  'Satish',\n",
       "  'Kumar',\n",
       "  75000,\n",
       "  datetime.datetime(2014, 1, 20, 9, 0),\n",
       "  'Account',\n",
       "  2),\n",
       " (8,\n",
       "  'Geetika',\n",
       "  'Chauhan',\n",
       "  90000,\n",
       "  datetime.datetime(2014, 4, 11, 9, 0),\n",
       "  'Admin',\n",
       "  2)]"
      ]
     },
     "execution_count": 20,
     "metadata": {},
     "output_type": "execute_result"
    }
   ],
   "source": [
    "#Q-3. How to remove duplicate rows from Employees table.\n",
    "\n",
    "\n",
    "cursor.execute(\"SELECT WORKER_ID, FIRST_NAME, LAST_NAME, SALARY, JOINING_DATE, DEPARTMENT, COUNT(*) FROM Organization.Worker GROUP BY WORKER_ID, FIRST_NAME, LAST_NAME, SALARY, JOINING_DATE, DEPARTMENT HAVING COUNT(*) > 1\")\n",
    "cursor.fetchall()"
   ]
  },
  {
   "cell_type": "code",
   "execution_count": null,
   "id": "d7aae9a4",
   "metadata": {},
   "outputs": [],
   "source": []
  }
 ],
 "metadata": {
  "kernelspec": {
   "display_name": "Python 3 (ipykernel)",
   "language": "python",
   "name": "python3"
  },
  "language_info": {
   "codemirror_mode": {
    "name": "ipython",
    "version": 3
   },
   "file_extension": ".py",
   "mimetype": "text/x-python",
   "name": "python",
   "nbconvert_exporter": "python",
   "pygments_lexer": "ipython3",
   "version": "3.9.7"
  }
 },
 "nbformat": 4,
 "nbformat_minor": 5
}

{
 "cells": [
  {
   "cell_type": "code",
   "execution_count": null,
   "id": "cd531b07",
   "metadata": {},
   "outputs": [],
   "source": [
    "Q1. Define the relationship between a class and its instances. Is it a one-to-one or a one-to-many\n",
    "partnership, for example?\n",
    "\n",
    "Ans: Relationship between a class and its instances is a one to many partnership."
   ]
  },
  {
   "cell_type": "code",
   "execution_count": null,
   "id": "3b42aed9",
   "metadata": {},
   "outputs": [],
   "source": [
    "Q2. What kind of data is held only in an instance?\n",
    "\n",
    "Ans: Instance objects contains the Instance variables which are specific to that specific Instance object."
   ]
  },
  {
   "cell_type": "code",
   "execution_count": null,
   "id": "e89358e9",
   "metadata": {},
   "outputs": [],
   "source": [
    "Q3. What kind of knowledge is stored in a class?\n",
    "\n",
    "Ans: Class creates a user-defined data structure, which holds its own data members and member functions, which can be accessed and used by creating an instance of that class. A class is like a blueprint for an object."
   ]
  },
  {
   "cell_type": "code",
   "execution_count": null,
   "id": "2f8624e8",
   "metadata": {},
   "outputs": [],
   "source": [
    "Q4. What exactly is a method, and how is it different from a regular function?\n",
    "\n",
    "Ans: The methods with a class can be used to access the insatnce variables of its instance. So,the object's state can be modified by its method. Function can't access the attributes of an instance of a class or can't modify the state of the object."
   ]
  },
  {
   "cell_type": "code",
   "execution_count": null,
   "id": "6aa260cf",
   "metadata": {},
   "outputs": [],
   "source": [
    "Q5. Is inheritance supported in Python, and if so, what is the syntax?\n",
    "\n",
    "Ans: Yes,Python supports inheritance. The Types of Inheritence Supported by Python are:\n",
    "\n",
    "Simple Inheritence\n",
    "Multiple Inheritence\n",
    "Multilevel lInheritence\n",
    "Hybrid Inheritence\n",
    "Hierracial Inheritence"
   ]
  },
  {
   "cell_type": "code",
   "execution_count": null,
   "id": "707177d4",
   "metadata": {},
   "outputs": [],
   "source": [
    "class Person:\n",
    "    def __init__(self, fname, lname):\n",
    "        self.first_name = fname\n",
    "        self.last_name = lname\n",
    "class Student(Person):\n",
    "    pass"
   ]
  },
  {
   "cell_type": "code",
   "execution_count": null,
   "id": "99efaf22",
   "metadata": {},
   "outputs": [],
   "source": [
    "Q6. How much encapsulation (making instance or class variables private) does Python support?\n",
    "\n",
    "Ans: Encapsulation describes the idea of wrapping data and the methods that work on data within one unit. This puts restrictions on accessing variables and methods directly and can prevent the accidental modification of data. To prevent accidental change, an objects variable can only be changed by an objects method."
   ]
  },
  {
   "cell_type": "code",
   "execution_count": null,
   "id": "f2ecfdbb",
   "metadata": {},
   "outputs": [],
   "source": [
    "Q7. How do you distinguish between a class variable and an instance variable?\n",
    "\n",
    "Ans: The Class Attribute is available to all the instance objects of that class. whereas Instance Attributes are accessible only to the object or Instance of that class.\n"
   ]
  },
  {
   "cell_type": "code",
   "execution_count": null,
   "id": "339b7805",
   "metadata": {},
   "outputs": [],
   "source": [
    "Q8. When, if ever, can self be included in a class's method definitions?\n",
    "\n",
    "Ans: Yes, self can included in class method definations to access the instance variables inside class methods.\n"
   ]
  },
  {
   "cell_type": "code",
   "execution_count": null,
   "id": "2e47168c",
   "metadata": {},
   "outputs": [],
   "source": [
    "Q9. What is the difference between the _ _add_ _ and the _ _radd_ _ methods?\n",
    "\n",
    "Ans: Entering radd Python will first try add(), and if that returns Not Implemented Python will check if the right-hand operand implements radd, and if it does, it will call radd() rather than raising a TypeError\n"
   ]
  },
  {
   "cell_type": "code",
   "execution_count": null,
   "id": "f83ef749",
   "metadata": {},
   "outputs": [],
   "source": [
    "Q10. When is it necessary to use a reflection method? When do you not need it, even though you\n",
    "support the operation in question?\n",
    "\n",
    "Ans: Reflection method we often encounter the requirement that a method in the executing object, or a variable in the calling object, or a field of the object should be assigned, while the method name or field name can not be determined when encoding the code, and need to be input in the form of passing strings through parameters.\n"
   ]
  },
  {
   "cell_type": "code",
   "execution_count": null,
   "id": "6b996cab",
   "metadata": {},
   "outputs": [],
   "source": [
    "Q11. What is the _ _iadd_ _ method called?\n",
    "\n",
    "Ans: iadd method is called when we use implementation like a+=b which is a.iadd(b)"
   ]
  },
  {
   "cell_type": "code",
   "execution_count": null,
   "id": "fc6fb86c",
   "metadata": {},
   "outputs": [],
   "source": [
    "Q12. Is the _ _init_ _ method inherited by subclasses? What do you do if you need to customize its\n",
    "behavior within a subclass?\n",
    "\n",
    "Ans: Yes, init method will be inherited by subclasses. if we want to customize its behaviour within a subclass we can use super() method."
   ]
  }
 ],
 "metadata": {
  "kernelspec": {
   "display_name": "Python 3 (ipykernel)",
   "language": "python",
   "name": "python3"
  },
  "language_info": {
   "codemirror_mode": {
    "name": "ipython",
    "version": 3
   },
   "file_extension": ".py",
   "mimetype": "text/x-python",
   "name": "python",
   "nbconvert_exporter": "python",
   "pygments_lexer": "ipython3",
   "version": "3.9.7"
  }
 },
 "nbformat": 4,
 "nbformat_minor": 5
}

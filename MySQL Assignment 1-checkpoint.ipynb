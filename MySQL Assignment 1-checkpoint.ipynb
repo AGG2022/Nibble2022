{
 "cells": [
  {
   "cell_type": "code",
   "execution_count": 1,
   "id": "5d94fea8",
   "metadata": {},
   "outputs": [],
   "source": [
    "import mysql.connector as conn\n",
    "mydb = conn.connect(host = 'localhost', user= 'root', password = '#GDG2305gd01#')\n",
    "cursor= mydb.cursor()"
   ]
  },
  {
   "cell_type": "code",
   "execution_count": 3,
   "id": "f23ac1bc",
   "metadata": {},
   "outputs": [
    {
     "data": {
      "text/plain": [
       "<mysql.connector.connection_cext.CMySQLConnection at 0x13feeb640a0>"
      ]
     },
     "execution_count": 3,
     "metadata": {},
     "output_type": "execute_result"
    }
   ],
   "source": [
    "mydb"
   ]
  },
  {
   "cell_type": "code",
   "execution_count": 4,
   "id": "4ae1309e",
   "metadata": {},
   "outputs": [],
   "source": [
    "cursor.execute(\"create Database Organization\")"
   ]
  },
  {
   "cell_type": "code",
   "execution_count": 6,
   "id": "9213152b",
   "metadata": {},
   "outputs": [],
   "source": [
    "cursor.execute(\"CREATE TABLE Organization.Worker (WORKER_ID INT(10), FIRST_NAME VARCHAR(25), LAST_NAME VARCHAR(25), SALARY INT(15), JOINING_DATE DATETIME, DEPARTMENT VARCHAR(25))\") \n",
    "\n"
   ]
  },
  {
   "cell_type": "code",
   "execution_count": 7,
   "id": "53cbcc6f",
   "metadata": {},
   "outputs": [],
   "source": [
    "cursor.execute(\"use Organization\")"
   ]
  },
  {
   "cell_type": "code",
   "execution_count": 9,
   "id": "230aceac",
   "metadata": {},
   "outputs": [],
   "source": [
    "cursor.execute(\"show tables\")"
   ]
  },
  {
   "cell_type": "code",
   "execution_count": 10,
   "id": "8e7c62f2",
   "metadata": {},
   "outputs": [
    {
     "data": {
      "text/plain": [
       "[('worker',)]"
      ]
     },
     "execution_count": 10,
     "metadata": {},
     "output_type": "execute_result"
    }
   ],
   "source": [
    "cursor.fetchall()"
   ]
  },
  {
   "cell_type": "code",
   "execution_count": 20,
   "id": "1d04bd4d",
   "metadata": {},
   "outputs": [],
   "source": [
    "sql = \"insert into Organization.Worker(WORKER_ID, FIRST_NAME, LAST_NAME , SALARY, JOINING_DATE, DEPARTMENT) VALUES (%s, %s, %s, %s, %s, %s)\"\n",
    "val= [\n",
    "               (1, 'Monika', 'Arora', 100000, '14-02-20 09.00.00', 'HR'),\n",
    "               (2, 'Niharika', 'Verma', 80000, '14-06-11 09.00.00', 'Admin'),\n",
    "               (3, 'Vishal', 'Singhal', 300000, '14-02-20 09.00.00', 'HR'),\n",
    "               (4, 'Amitabh', 'Singh', 500000, '14-02-20 09.00.00', 'Admin'),\n",
    "               (5, 'Vivek', 'Bhati', 500000, '14-06-11 09.00.00', 'Admin'),\n",
    "               (6, 'Vipul', 'Diwan', 200000, '14-06-11 09.00.00', 'Account'),\n",
    "               (7, 'Satish', 'Kumar', 75000, '14-01-20 09.00.00', 'Account'),\n",
    "               (8, 'Geetika', 'Chauhan', 90000, '14-04-11 09.00.00', 'Admin')\n",
    "      ]    \n",
    "cursor.executemany(sql,val)\n",
    "mydb.commit()"
   ]
  },
  {
   "cell_type": "code",
   "execution_count": 21,
   "id": "9fdbc283",
   "metadata": {},
   "outputs": [],
   "source": [
    "cursor.execute(\"select * from Organization.Worker\")"
   ]
  },
  {
   "cell_type": "code",
   "execution_count": 22,
   "id": "0e4e3c2c",
   "metadata": {},
   "outputs": [
    {
     "data": {
      "text/plain": [
       "[(1, 'Monika', 'Arora', 100000, datetime.datetime(2014, 2, 20, 9, 0), 'HR'),\n",
       " (2,\n",
       "  'Niharika',\n",
       "  'Verma',\n",
       "  80000,\n",
       "  datetime.datetime(2014, 6, 11, 9, 0),\n",
       "  'Admin'),\n",
       " (3, 'Vishal', 'Singhal', 300000, datetime.datetime(2014, 2, 20, 9, 0), 'HR'),\n",
       " (4,\n",
       "  'Amitabh',\n",
       "  'Singh',\n",
       "  500000,\n",
       "  datetime.datetime(2014, 2, 20, 9, 0),\n",
       "  'Admin'),\n",
       " (5, 'Vivek', 'Bhati', 500000, datetime.datetime(2014, 6, 11, 9, 0), 'Admin'),\n",
       " (6,\n",
       "  'Vipul',\n",
       "  'Diwan',\n",
       "  200000,\n",
       "  datetime.datetime(2014, 6, 11, 9, 0),\n",
       "  'Account'),\n",
       " (7,\n",
       "  'Satish',\n",
       "  'Kumar',\n",
       "  75000,\n",
       "  datetime.datetime(2014, 1, 20, 9, 0),\n",
       "  'Account'),\n",
       " (8,\n",
       "  'Geetika',\n",
       "  'Chauhan',\n",
       "  90000,\n",
       "  datetime.datetime(2014, 4, 11, 9, 0),\n",
       "  'Admin'),\n",
       " (1, 'Monika', 'Arora', 100000, datetime.datetime(2014, 2, 20, 9, 0), 'HR'),\n",
       " (2,\n",
       "  'Niharika',\n",
       "  'Verma',\n",
       "  80000,\n",
       "  datetime.datetime(2014, 6, 11, 9, 0),\n",
       "  'Admin'),\n",
       " (3, 'Vishal', 'Singhal', 300000, datetime.datetime(2014, 2, 20, 9, 0), 'HR'),\n",
       " (4,\n",
       "  'Amitabh',\n",
       "  'Singh',\n",
       "  500000,\n",
       "  datetime.datetime(2014, 2, 20, 9, 0),\n",
       "  'Admin'),\n",
       " (5, 'Vivek', 'Bhati', 500000, datetime.datetime(2014, 6, 11, 9, 0), 'Admin'),\n",
       " (6,\n",
       "  'Vipul',\n",
       "  'Diwan',\n",
       "  200000,\n",
       "  datetime.datetime(2014, 6, 11, 9, 0),\n",
       "  'Account'),\n",
       " (7,\n",
       "  'Satish',\n",
       "  'Kumar',\n",
       "  75000,\n",
       "  datetime.datetime(2014, 1, 20, 9, 0),\n",
       "  'Account'),\n",
       " (8,\n",
       "  'Geetika',\n",
       "  'Chauhan',\n",
       "  90000,\n",
       "  datetime.datetime(2014, 4, 11, 9, 0),\n",
       "  'Admin')]"
      ]
     },
     "execution_count": 22,
     "metadata": {},
     "output_type": "execute_result"
    }
   ],
   "source": [
    "cursor.fetchall()"
   ]
  },
  {
   "cell_type": "code",
   "execution_count": 23,
   "id": "0b4a8df8",
   "metadata": {},
   "outputs": [],
   "source": [
    "cursor.execute(\"CREATE TABLE Organization.Bonus (WORKER_REF_ID INT(10), BONUS_AMOUNT INT(10),BONUS_DATE DATETIME)\")\n",
    "\n",
    "\n"
   ]
  },
  {
   "cell_type": "code",
   "execution_count": 24,
   "id": "774e0c59",
   "metadata": {},
   "outputs": [],
   "source": [
    "cursor.execute(\"use Organization\")\n",
    "cursor.execute(\"show tables\")"
   ]
  },
  {
   "cell_type": "code",
   "execution_count": 25,
   "id": "c5f97fe8",
   "metadata": {},
   "outputs": [
    {
     "data": {
      "text/plain": [
       "[('bonus',), ('worker',)]"
      ]
     },
     "execution_count": 25,
     "metadata": {},
     "output_type": "execute_result"
    }
   ],
   "source": [
    "cursor.fetchall()"
   ]
  },
  {
   "cell_type": "code",
   "execution_count": 35,
   "id": "1f5f16ed",
   "metadata": {},
   "outputs": [
    {
     "data": {
      "text/plain": [
       "<bound method CMySQLConnection.commit of <mysql.connector.connection_cext.CMySQLConnection object at 0x0000013FF035ADC0>>"
      ]
     },
     "execution_count": 35,
     "metadata": {},
     "output_type": "execute_result"
    }
   ],
   "source": [
    "import mysql.connector as conn\n",
    "mydb = conn.connect(host = 'localhost', user= 'root', password = '#GDG2305gd01#')\n",
    "cursor= mydb.cursor()\n",
    "sql = \"insert into Organization.Bonus (WORKER_REF_ID, BONUS_AMOUNT, BONUS_DATE) VALUES (%s, %s, %s)\"\n",
    "val = [\n",
    "    (1, 4000, '16-06-11'),\n",
    "    (2, 4500, '16-02-20'),\n",
    "    (3, 5000, '16-02-20'),\n",
    "    (4, 5500, '16-02-20'),\n",
    "    (5, 6000, '16-06-11')\n",
    "]\n",
    "\n",
    "cursor.executemany(sql,val)\n",
    "mydb.commit"
   ]
  },
  {
   "cell_type": "code",
   "execution_count": 36,
   "id": "3298a5cc",
   "metadata": {},
   "outputs": [],
   "source": [
    "cursor.execute(\"select * from Organization.Bonus\")"
   ]
  },
  {
   "cell_type": "code",
   "execution_count": 37,
   "id": "8b246aa6",
   "metadata": {},
   "outputs": [
    {
     "data": {
      "text/plain": [
       "[(1, 4000, datetime.datetime(2016, 6, 11, 0, 0)),\n",
       " (2, 4500, datetime.datetime(2016, 2, 20, 0, 0)),\n",
       " (3, 5000, datetime.datetime(2016, 2, 20, 0, 0)),\n",
       " (4, 5500, datetime.datetime(2016, 2, 20, 0, 0)),\n",
       " (5, 6000, datetime.datetime(2016, 6, 11, 0, 0))]"
      ]
     },
     "execution_count": 37,
     "metadata": {},
     "output_type": "execute_result"
    }
   ],
   "source": [
    "cursor.fetchall()"
   ]
  },
  {
   "cell_type": "code",
   "execution_count": 38,
   "id": "4aaa2693",
   "metadata": {},
   "outputs": [
    {
     "data": {
      "text/plain": [
       "[('Monika',),\n",
       " ('Niharika',),\n",
       " ('Vishal',),\n",
       " ('Amitabh',),\n",
       " ('Vivek',),\n",
       " ('Vipul',),\n",
       " ('Satish',),\n",
       " ('Geetika',),\n",
       " ('Monika',),\n",
       " ('Niharika',),\n",
       " ('Vishal',),\n",
       " ('Amitabh',),\n",
       " ('Vivek',),\n",
       " ('Vipul',),\n",
       " ('Satish',),\n",
       " ('Geetika',)]"
      ]
     },
     "execution_count": 38,
     "metadata": {},
     "output_type": "execute_result"
    }
   ],
   "source": [
    "#Write an SQL query to fetch “FIRST_NAME” from Worker table using the alias name as <WORKER_NAME>.\n",
    "\n",
    "cursor.execute(\"Select FIRST_NAME AS WORKER_NAME from Organization.Worker\")\n",
    "cursor.fetchall()"
   ]
  },
  {
   "cell_type": "code",
   "execution_count": 41,
   "id": "c25d20eb",
   "metadata": {},
   "outputs": [
    {
     "data": {
      "text/plain": [
       "[('HR',), ('Admin',), ('Account',)]"
      ]
     },
     "execution_count": 41,
     "metadata": {},
     "output_type": "execute_result"
    }
   ],
   "source": [
    "#Write an SQL query to fetch unique values of DEPARTMENT from Worker table.\n",
    "\n",
    "cursor.execute(\"Select DISTINCT Department from Organization.Worker\")\n",
    "cursor.fetchall()"
   ]
  },
  {
   "cell_type": "code",
   "execution_count": 43,
   "id": "0e0e9da6",
   "metadata": {},
   "outputs": [
    {
     "data": {
      "text/plain": [
       "[(4,\n",
       "  'Amitabh',\n",
       "  'Singh',\n",
       "  500000,\n",
       "  datetime.datetime(2014, 2, 20, 9, 0),\n",
       "  'Admin'),\n",
       " (5, 'Vivek', 'Bhati', 500000, datetime.datetime(2014, 6, 11, 9, 0), 'Admin'),\n",
       " (6,\n",
       "  'Vipul',\n",
       "  'Diwan',\n",
       "  200000,\n",
       "  datetime.datetime(2014, 6, 11, 9, 0),\n",
       "  'Account'),\n",
       " (7,\n",
       "  'Satish',\n",
       "  'Kumar',\n",
       "  75000,\n",
       "  datetime.datetime(2014, 1, 20, 9, 0),\n",
       "  'Account'),\n",
       " (8,\n",
       "  'Geetika',\n",
       "  'Chauhan',\n",
       "  90000,\n",
       "  datetime.datetime(2014, 4, 11, 9, 0),\n",
       "  'Admin')]"
      ]
     },
     "execution_count": 43,
     "metadata": {},
     "output_type": "execute_result"
    }
   ],
   "source": [
    "#Write an SQL query to show the last 5 record from a table.\n",
    "\n",
    "cursor.execute(\"SELECT * FROM Organization.Worker LIMIT 5 OFFSET 3\")\n",
    "cursor.fetchall()"
   ]
  },
  {
   "cell_type": "code",
   "execution_count": null,
   "id": "fae6745f",
   "metadata": {},
   "outputs": [],
   "source": []
  }
 ],
 "metadata": {
  "kernelspec": {
   "display_name": "Python 3 (ipykernel)",
   "language": "python",
   "name": "python3"
  },
  "language_info": {
   "codemirror_mode": {
    "name": "ipython",
    "version": 3
   },
   "file_extension": ".py",
   "mimetype": "text/x-python",
   "name": "python",
   "nbconvert_exporter": "python",
   "pygments_lexer": "ipython3",
   "version": "3.9.7"
  }
 },
 "nbformat": 4,
 "nbformat_minor": 5
}

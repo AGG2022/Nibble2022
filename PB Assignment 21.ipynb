{
 "cells": [
  {
   "cell_type": "code",
   "execution_count": null,
   "id": "431e0e60",
   "metadata": {},
   "outputs": [],
   "source": [
    "1. Add the current date to the text file today.txt as a string.\n"
   ]
  },
  {
   "cell_type": "code",
   "execution_count": 1,
   "id": "7bb07135",
   "metadata": {},
   "outputs": [],
   "source": [
    "from datetime import date\n",
    "today=date.today()\n",
    "cur_date = today.isoformat()\n",
    "cur_date\n",
    "with open('today.txt','w') as file:\n",
    "    file.write(cur_date)"
   ]
  },
  {
   "cell_type": "code",
   "execution_count": null,
   "id": "a5bda5ce",
   "metadata": {},
   "outputs": [],
   "source": [
    "2. Read the text file today.txt into the string today_string\n"
   ]
  },
  {
   "cell_type": "code",
   "execution_count": 2,
   "id": "e7ba7cf3",
   "metadata": {},
   "outputs": [
    {
     "name": "stdout",
     "output_type": "stream",
     "text": [
      "2022-05-03\n"
     ]
    }
   ],
   "source": [
    "with open('today.txt', 'r') as file:\n",
    "    today_string = file.read()\n",
    "print(today_string)"
   ]
  },
  {
   "cell_type": "code",
   "execution_count": null,
   "id": "ecab522b",
   "metadata": {},
   "outputs": [],
   "source": [
    "3. Parse the date from today_string.\n"
   ]
  },
  {
   "cell_type": "code",
   "execution_count": 3,
   "id": "4d08d3e7",
   "metadata": {},
   "outputs": [
    {
     "data": {
      "text/plain": [
       "datetime.datetime(2022, 5, 3, 0, 0)"
      ]
     },
     "execution_count": 3,
     "metadata": {},
     "output_type": "execute_result"
    }
   ],
   "source": [
    "from datetime import datetime\n",
    "format = '%Y-%m-%d'\n",
    "datetime.strptime(today_string,format)"
   ]
  },
  {
   "cell_type": "code",
   "execution_count": null,
   "id": "a0e19000",
   "metadata": {},
   "outputs": [],
   "source": [
    "4. List the files in your current directory\n"
   ]
  },
  {
   "cell_type": "code",
   "execution_count": 4,
   "id": "45f7c430",
   "metadata": {},
   "outputs": [
    {
     "data": {
      "text/plain": [
       "['.astropy',\n",
       " '.conda',\n",
       " '.condarc',\n",
       " '.continuum',\n",
       " '.cufflinks',\n",
       " '.git',\n",
       " '.ipynb_checkpoints',\n",
       " '.ipython',\n",
       " '.jupyter',\n",
       " '.matplotlib',\n",
       " '01_hello.py',\n",
       " '02_comments.py',\n",
       " '03_mod.py',\n",
       " '04_practice_1.py',\n",
       " '05_practice_3.py',\n",
       " '06_practice_4.py',\n",
       " '07 Functions_Revision (2).ipynb',\n",
       " '07 Functions_Revision.ipynb',\n",
       " '19.3.1 mongoDB introduction-checkpoint.ipynb',\n",
       " '19.3.1 mongoDB introduction.ipynb',\n",
       " '19.3.2 pyMongo-checkpoint.ipynb',\n",
       " '19.3.2 pyMongo.ipynb',\n",
       " '19.3.3 Atlas-checkpoint.ipynb',\n",
       " '19.3.3 Atlas.ipynb',\n",
       " '3D Objects',\n",
       " 'addresses.csv',\n",
       " 'anaconda3',\n",
       " 'Anuja Mongodb 1.ipynb',\n",
       " 'Anuja MySQL !!.ipynb',\n",
       " 'Anuja MySQL !.ipynb',\n",
       " 'Anuja PB Practice Functions  .ipynb',\n",
       " 'Anuja PB Practice Holiday Task after function 23.12.2021',\n",
       " 'Anuja PB Practice Holiday task after functions 23 12.2012',\n",
       " 'Anuja PB Practice problem1.ipynb',\n",
       " 'Anuja Practice Cassandra Part 1.ipynb',\n",
       " 'Anuja Practice Exception Handling.ipynb',\n",
       " 'Anuja Practice Graph 1 (26th March).ipynb',\n",
       " 'Anuja Practice Graph 2 (27th Mar).ipynb',\n",
       " 'Anuja Practice Iterator Generator 8th Jan & 9th Jan.ipynb',\n",
       " 'Anuja Practice Logging.ipynb',\n",
       " 'Anuja Practice Mongodb basics.ipynb',\n",
       " 'Anuja Practice Numpy 1.ipynb',\n",
       " 'Anuja Practice Pandas  1.ipynb',\n",
       " 'Anuja Practice Pandas 2.ipynb',\n",
       " 'Anuja Practice Pandas 3.ipynb',\n",
       " 'Anuja Practice Pandas 4.ipynb',\n",
       " 'Anuja Practice Pandas 5.ipynb',\n",
       " 'Anuja Practice Pandas Task 5 Mar.ipynb',\n",
       " 'Anuja Practice Pandas.ipynb',\n",
       " 'Anuja Practice SQL Task 6th Feb 2022.ipynb',\n",
       " 'Anuja Python Basic Practice ().ipynb',\n",
       " 'Anuja Python Basic Practice (For Loop, While Loop).ipynb',\n",
       " 'Anuja Python Basic Practice (string, integer, list).ipynb',\n",
       " 'Anuja Python Basic Practice for loop, while loop, etarator, Problem solving.ipynb',\n",
       " 'Anuja Python Basic Practice Function and Holiday Task.ipynb',\n",
       " 'Anuja Python Basic Practice(If Else, For loop).ipynb',\n",
       " 'Anuja Python Basic Practice(Tuple,Set, Dict).ipynb',\n",
       " 'Anuja Python Basic Practice.ipynb',\n",
       " 'Anuja Python Basics OOPs Concept.ipynb',\n",
       " 'Anuja Python Basics Practice (Inheritance, classes, public, private and protected variable.ipynb',\n",
       " 'Anuja Python Practice SQL 2 6th feb22.ipynb',\n",
       " 'Anuja Python Practice SQL Basic.ipynb',\n",
       " 'Anuja String Practice.ipynb',\n",
       " 'AppData',\n",
       " 'Application Data',\n",
       " 'bank-full.csv',\n",
       " 'bank-names.txt',\n",
       " 'bank.csv',\n",
       " 'books.db',\n",
       " 'car.data',\n",
       " 'Contacts',\n",
       " 'contacts.csv',\n",
       " 'Cookies',\n",
       " 'cricket.csv',\n",
       " 'Dictionary.docx',\n",
       " 'Documents',\n",
       " 'Downloads',\n",
       " 'Favorites',\n",
       " 'for loops while loop.ipynb',\n",
       " 'FSDS In Class Task.ipynb',\n",
       " 'FSDS Python Assignment_1.ipynb',\n",
       " 'FSDS Python Assignment_2.ipynb',\n",
       " 'Function and holiday task.ipynb',\n",
       " 'Function continued.ipynb',\n",
       " 'Gadiator.data',\n",
       " 'GD.py',\n",
       " 'GD2.py',\n",
       " 'Graph.ipynb',\n",
       " 'graphs day 2.ipynb',\n",
       " 'GUI Programming-2.ipynb',\n",
       " 'GUI Programming-3.ipynb',\n",
       " 'holiday_schedules.csv',\n",
       " 'if else , for loop.ipynb',\n",
       " 'iterator generator.ipynb',\n",
       " 'json_res.csv',\n",
       " 'Links',\n",
       " 'Local Settings',\n",
       " 'locations.csv',\n",
       " 'logging (1).ipynb',\n",
       " 'log_file.log',\n",
       " 'LUSID Excel - Business Agility - Making Simple Changes Quickly & Easily.xlsx',\n",
       " 'LUSID Excel - Maintain a product in multiple currencies and share classes.xlsx',\n",
       " 'LUSID Excel - Manage Orders.xlsx',\n",
       " 'LUSID Excel - Manage your investment strategies.xlsx',\n",
       " 'LUSID Excel - Setting up your IBOR.xlsx',\n",
       " 'LUSID Excel - Setting up your market data.xlsx',\n",
       " 'mail_addresses.csv',\n",
       " 'main.py',\n",
       " 'mongodb class 1.ipynb',\n",
       " 'Music',\n",
       " 'My Documents',\n",
       " 'my module.py',\n",
       " 'MySQL Assignment 1.ipynb',\n",
       " 'MySQL Assignment 10.ipynb',\n",
       " 'MySQL Assignment 2.ipynb',\n",
       " 'MySQL Assignment 3.ipynb',\n",
       " 'MySQL Assignment 4.ipynb',\n",
       " 'MySQL Assignment 5.ipynb',\n",
       " 'MySQL Assignment 6.ipynb',\n",
       " 'MySQL Assignment 7.ipynb',\n",
       " 'MySQL Assignment 8.ipynb',\n",
       " 'MySQL Assignment 9.ipynb',\n",
       " 'NBA.csv',\n",
       " 'NetHood',\n",
       " 'NTUSER.DAT',\n",
       " 'ntuser.dat.LOG1',\n",
       " 'ntuser.dat.LOG2',\n",
       " 'NTUSER.DAT{53b39e88-18c4-11ea-a811-000d3aa4692b}.TM.blf',\n",
       " 'NTUSER.DAT{53b39e88-18c4-11ea-a811-000d3aa4692b}.TMContainer00000000000000000001.regtrans-ms',\n",
       " 'NTUSER.DAT{53b39e88-18c4-11ea-a811-000d3aa4692b}.TMContainer00000000000000000002.regtrans-ms',\n",
       " 'ntuser.ini',\n",
       " 'OneDrive',\n",
       " 'organizations.csv',\n",
       " 'pandas day 2.ipynb',\n",
       " 'Pandas.ipynb',\n",
       " 'PB Advanced Assignment 1.ipynb',\n",
       " 'PB Advanced Assignment 10.ipynb',\n",
       " 'PB Advanced Assignment 11.ipynb',\n",
       " 'PB Advanced Assignment 12.ipynb',\n",
       " 'PB Advanced Assignment 13.ipynb',\n",
       " 'PB Advanced Assignment 14.ipynb',\n",
       " 'PB Advanced Assignment 15.ipynb',\n",
       " 'PB Advanced Assignment 16.ipynb',\n",
       " 'PB Advanced Assignment 2.ipynb',\n",
       " 'PB Advanced Assignment 3.ipynb',\n",
       " 'PB Advanced Assignment 4.ipynb',\n",
       " 'PB Advanced Assignment 5.ipynb',\n",
       " 'PB Advanced Assignment 6.ipynb',\n",
       " 'PB Advanced Assignment 7.ipynb',\n",
       " 'PB Advanced Assignment 8.ipynb',\n",
       " 'PB Advanced Assignment 9.ipynb',\n",
       " 'PB Assignment 1.ipynb',\n",
       " 'PB Assignment 10.ipynb',\n",
       " 'PB Assignment 11.ipynb',\n",
       " 'PB Assignment 12.ipynb',\n",
       " 'PB Assignment 13.ipynb',\n",
       " 'PB Assignment 14.ipynb',\n",
       " 'PB Assignment 15.ipynb',\n",
       " 'PB Assignment 16.ipynb',\n",
       " 'PB Assignment 17.ipynb',\n",
       " 'PB Assignment 18.ipynb',\n",
       " 'PB Assignment 19.ipynb',\n",
       " 'PB Assignment 2.ipynb',\n",
       " 'PB Assignment 20.ipynb',\n",
       " 'PB Assignment 21.ipynb',\n",
       " 'PB Assignment 22.ipynb',\n",
       " 'PB Assignment 23.ipynb',\n",
       " 'PB Assignment 24.ipynb',\n",
       " 'PB Assignment 25.ipynb',\n",
       " 'PB Assignment 3.ipynb',\n",
       " 'PB Assignment 4.ipynb',\n",
       " 'PB Assignment 5.ipynb',\n",
       " 'PB Assignment 6.ipynb',\n",
       " 'PB Assignment 7.ipynb',\n",
       " 'PB Assignment 8.ipynb',\n",
       " 'PB Assignment 9.ipynb',\n",
       " 'PB Programming Assignment 1.ipynb',\n",
       " 'PB Programming Assignment 2.ipynb',\n",
       " 'PB Programming Assignment 3.ipynb',\n",
       " 'PB Programming Assignment 4.ipynb',\n",
       " 'PB Programming Assignment 5.ipynb',\n",
       " 'PB Programming Assignment 6.ipynb',\n",
       " 'PB Programming Assignment 7.ipynb',\n",
       " 'phones.csv',\n",
       " 'Polymorphism, Encapsulation.ipynb',\n",
       " 'Postman',\n",
       " 'practice problem python basic.ipynb',\n",
       " 'PrintHood',\n",
       " 'programs.csv',\n",
       " 'PycharmProjects',\n",
       " 'Python basic (3).ipynb',\n",
       " 'Python Basic 1 Study Material.ipynb',\n",
       " 'Python programming assignment github.ipynb',\n",
       " 'Python Project 1 9.04.22.ipynb',\n",
       " 'python.ipynb',\n",
       " 'Recent',\n",
       " 'regular_schedules.csv',\n",
       " 'Rev. Condition statement and loops.ipynb',\n",
       " 'Rev. Functions (21, 28, 31Jan, 2Feb).ipynb',\n",
       " 'Revision Control Flow(If elif else Loops- While, for)- 19Jan.ipynb',\n",
       " 'Revision Functions 21 Jan.ipynb',\n",
       " 'same-resume-year-wise-master',\n",
       " 'Saved Games',\n",
       " 'seaborn-data',\n",
       " 'Searches',\n",
       " 'SendTo',\n",
       " 'services.csv',\n",
       " 'SQL basic .ipynb',\n",
       " 'sql day 2 .ipynb',\n",
       " 'SQLLITE ,map ,reduce ,filter,zip.ipynb',\n",
       " 'Start Menu',\n",
       " 'taxonomy.csv',\n",
       " 'Templates',\n",
       " 'test 1.py',\n",
       " 'test 1.py.bak',\n",
       " 'test.csv',\n",
       " 'test.log',\n",
       " 'test.py',\n",
       " 'test.txt',\n",
       " 'test1.txt',\n",
       " 'test2.log',\n",
       " 'test2.py',\n",
       " 'test2.py.bak',\n",
       " 'test3.log',\n",
       " 'test3.py',\n",
       " 'test4.log',\n",
       " 'test43.txt',\n",
       " 'test5.log',\n",
       " 'test_f1.txt',\n",
       " 'today.txt',\n",
       " 'Untitled.ipynb',\n",
       " 'Untitled12.ipynb',\n",
       " 'Videos',\n",
       " 'zoo.py',\n",
       " '__pycache__']"
      ]
     },
     "execution_count": 4,
     "metadata": {},
     "output_type": "execute_result"
    }
   ],
   "source": [
    "import os\n",
    "os.listdir('.')"
   ]
  },
  {
   "cell_type": "code",
   "execution_count": null,
   "id": "09760eb5",
   "metadata": {},
   "outputs": [],
   "source": [
    "5. Create a list of all of the files in your parent directory (minimum five files should be available).\n"
   ]
  },
  {
   "cell_type": "code",
   "execution_count": 5,
   "id": "78bd96c5",
   "metadata": {},
   "outputs": [
    {
     "data": {
      "text/plain": [
       "['Admin', 'All Users', 'Default', 'Default User', 'desktop.ini', 'Public']"
      ]
     },
     "execution_count": 5,
     "metadata": {},
     "output_type": "execute_result"
    }
   ],
   "source": [
    "os.listdir('..')"
   ]
  },
  {
   "cell_type": "code",
   "execution_count": null,
   "id": "716a5326",
   "metadata": {},
   "outputs": [],
   "source": [
    "6. Use multiprocessing to create three separate processes. Make each one wait a random number of\n",
    "seconds between one and five, print the current time, and then exit.\n"
   ]
  },
  {
   "cell_type": "code",
   "execution_count": 6,
   "id": "3158fc7f",
   "metadata": {},
   "outputs": [],
   "source": [
    "import multiprocessing\n",
    "\n",
    "def printsec(seconds):\n",
    "    from datetime import datetime\n",
    "    from time import sleep\n",
    "    sleep(seconds)\n",
    "    print('wait', seconds, 'seconds, time is', datetime.utcnow())\n",
    "    \n",
    "if __name__ == '__main__':\n",
    "    import random    \n",
    "    for n in range(3):\n",
    "        seconds = random.random()\n",
    "        proc = multiprocessing.Process(target=printsec, args=(seconds,))\n",
    "        proc.start()"
   ]
  },
  {
   "cell_type": "code",
   "execution_count": 7,
   "id": "8d3c48f2",
   "metadata": {},
   "outputs": [
    {
     "name": "stderr",
     "output_type": "stream",
     "text": [
      "'multi.py' is not recognized as an internal or external command,\n",
      "operable program or batch file.\n"
     ]
    }
   ],
   "source": [
    "!multi.py"
   ]
  },
  {
   "cell_type": "code",
   "execution_count": null,
   "id": "23c261db",
   "metadata": {},
   "outputs": [],
   "source": [
    "wait 0.25700114370511584 seconds, time is 2021-05-04 11:11:22.606700\n",
    "wait 0.6398316226840549 seconds, time is 2021-05-04 11:11:22.978403\n",
    "wait 0.7806718758267396 seconds, time is 2021-05-04 11:11:23.119607"
   ]
  },
  {
   "cell_type": "code",
   "execution_count": null,
   "id": "1192103b",
   "metadata": {},
   "outputs": [],
   "source": [
    "7. Create a date object of your day of birth.\n"
   ]
  },
  {
   "cell_type": "code",
   "execution_count": 8,
   "id": "58c339b5",
   "metadata": {},
   "outputs": [
    {
     "data": {
      "text/plain": [
       "datetime.date(1998, 8, 16)"
      ]
     },
     "execution_count": 8,
     "metadata": {},
     "output_type": "execute_result"
    }
   ],
   "source": [
    "from datetime import date\n",
    "date_of_birth = date(1998,8,16)\n",
    "date_of_birth"
   ]
  },
  {
   "cell_type": "code",
   "execution_count": null,
   "id": "d8254db5",
   "metadata": {},
   "outputs": [],
   "source": [
    "8. What day of the week was your day of birth?\n"
   ]
  },
  {
   "cell_type": "code",
   "execution_count": 9,
   "id": "79dea57b",
   "metadata": {},
   "outputs": [
    {
     "data": {
      "text/plain": [
       "6"
      ]
     },
     "execution_count": 9,
     "metadata": {},
     "output_type": "execute_result"
    }
   ],
   "source": [
    "date_of_birth.weekday()"
   ]
  },
  {
   "cell_type": "code",
   "execution_count": null,
   "id": "e849ae5a",
   "metadata": {},
   "outputs": [],
   "source": [
    "9. When will you be (or when were you) 10,000 days old?"
   ]
  },
  {
   "cell_type": "code",
   "execution_count": 10,
   "id": "15819b22",
   "metadata": {},
   "outputs": [
    {
     "data": {
      "text/plain": [
       "datetime.date(2026, 1, 1)"
      ]
     },
     "execution_count": 10,
     "metadata": {},
     "output_type": "execute_result"
    }
   ],
   "source": [
    "from datetime import timedelta\n",
    "day10000 = date_of_birth + timedelta(days=10000)\n",
    "day10000"
   ]
  },
  {
   "cell_type": "code",
   "execution_count": null,
   "id": "2772372e",
   "metadata": {},
   "outputs": [],
   "source": []
  }
 ],
 "metadata": {
  "kernelspec": {
   "display_name": "Python 3 (ipykernel)",
   "language": "python",
   "name": "python3"
  },
  "language_info": {
   "codemirror_mode": {
    "name": "ipython",
    "version": 3
   },
   "file_extension": ".py",
   "mimetype": "text/x-python",
   "name": "python",
   "nbconvert_exporter": "python",
   "pygments_lexer": "ipython3",
   "version": "3.9.7"
  }
 },
 "nbformat": 4,
 "nbformat_minor": 5
}

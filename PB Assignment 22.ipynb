{
 "cells": [
  {
   "cell_type": "code",
   "execution_count": null,
   "id": "5907a730",
   "metadata": {},
   "outputs": [],
   "source": [
    "1. What is the result of the code, and explain?\n",
    "\n",
    "X = 'iNeuron' def func(): print(X) func() \n",
    "\n",
    "Ans- The global variables are accessible in side the functions in python. But we can not access function variable out side function. Since x is golbal variable we are able to print it in side the function solution : 'iNeuron'\n"
   ]
  },
  {
   "cell_type": "code",
   "execution_count": 1,
   "id": "9779129b",
   "metadata": {},
   "outputs": [
    {
     "name": "stdout",
     "output_type": "stream",
     "text": [
      "iNeuron\n"
     ]
    }
   ],
   "source": [
    "\n",
    "X = 'iNeuron'\n",
    "def func():\n",
    "    print(X)\n",
    "func()"
   ]
  },
  {
   "cell_type": "code",
   "execution_count": null,
   "id": "ea13cc26",
   "metadata": {},
   "outputs": [],
   "source": [
    "2. What is the result of the code, and explain?\n",
    "X = 'iNeuron' def func(): X = 'NI!'\n",
    "\n",
    "func() print(X)\n",
    "\n",
    "Ans- The global variables are access in side the functions in python. But we can not access function variable out side function. Since x is golbal variable we are able to print it out side of the function solution = 'iNeuron'\n"
   ]
  },
  {
   "cell_type": "code",
   "execution_count": 2,
   "id": "f50cb78f",
   "metadata": {},
   "outputs": [
    {
     "name": "stdout",
     "output_type": "stream",
     "text": [
      "iNeuron\n"
     ]
    }
   ],
   "source": [
    "X = 'iNeuron'\n",
    "def func():\n",
    "    X = 'NI!'\n",
    "\n",
    "func()\n",
    "print(X)\n"
   ]
  },
  {
   "cell_type": "code",
   "execution_count": null,
   "id": "5721ffee",
   "metadata": {},
   "outputs": [],
   "source": [
    "3. What does this code print, and why?\n",
    "X = 'iNeuron' def func(): X = 'NI!' print(X)\n",
    "\n",
    "func() print(X)\n",
    "\n",
    "Ans- The global variables are access in side the functions in python. But we can not access function variable out side function. X is updated with 'NI' which is local to function and its immutable. its name space is with in the function solution = 'NI!', 'iNeuron'\n"
   ]
  },
  {
   "cell_type": "code",
   "execution_count": 4,
   "id": "8268ddb0",
   "metadata": {},
   "outputs": [
    {
     "name": "stdout",
     "output_type": "stream",
     "text": [
      "NI!\n",
      "iNeuron\n"
     ]
    }
   ],
   "source": [
    "\n",
    "X = 'iNeuron'\n",
    "def func():\n",
    "    X = 'NI!'\n",
    "    print(X)\n",
    "func()\n",
    "print(X)"
   ]
  },
  {
   "cell_type": "code",
   "execution_count": null,
   "id": "96731ae5",
   "metadata": {},
   "outputs": [],
   "source": [
    "4. What output does this code produce? Why?\n",
    "X = 'iNeuron' def func(): global X X = 'NI!' print(X)\n",
    "\n",
    "func() print(X)\n",
    "\n",
    "Ans- Since the X in side function is made Global, it will be accesible out side of the function too. now X will have new value.\n",
    "\n",
    "solution : 'NI!', 'NI!'\n"
   ]
  },
  {
   "cell_type": "code",
   "execution_count": 5,
   "id": "87ef603b",
   "metadata": {},
   "outputs": [
    {
     "name": "stdout",
     "output_type": "stream",
     "text": [
      "NI!\n",
      "NI!\n"
     ]
    }
   ],
   "source": [
    "\n",
    "X = 'iNeuron'\n",
    "def func():\n",
    "    global X\n",
    "    X = 'NI!'\n",
    "    print(X)\n",
    "\n",
    "func()\n",
    "print(X)"
   ]
  },
  {
   "cell_type": "code",
   "execution_count": null,
   "id": "25567f1d",
   "metadata": {},
   "outputs": [],
   "source": [
    "5. What about this code—what’s the output, and why?\n",
    "X = 'iNeuron' def func(): X = 'NI' def nested(): print(X)\n",
    "\n",
    "nested() func() X\n",
    "\n",
    "Ans- The nested() function will print 'iNeuron', Then func() does not display anything, and x ='NI' is not accessible out side the function. Solution : 'iNeuron\n"
   ]
  },
  {
   "cell_type": "code",
   "execution_count": 6,
   "id": "91db98d7",
   "metadata": {},
   "outputs": [
    {
     "name": "stdout",
     "output_type": "stream",
     "text": [
      "iNeuron\n"
     ]
    },
    {
     "data": {
      "text/plain": [
       "'iNeuron'"
      ]
     },
     "execution_count": 6,
     "metadata": {},
     "output_type": "execute_result"
    }
   ],
   "source": [
    "\n",
    "X = 'iNeuron'\n",
    "def func():\n",
    "    X = 'NI'\n",
    "def nested():\n",
    "    print(X)\n",
    "    \n",
    "nested()\n",
    "func()\n",
    "X"
   ]
  },
  {
   "cell_type": "code",
   "execution_count": null,
   "id": "d90ee9b8",
   "metadata": {},
   "outputs": [],
   "source": [
    "6. How about this code: what is its output in Python 3, and explain?\n",
    "X = 'kkl' def func(): X = 'NI' def nested(): nonlocal X X = 'spam' nested() print(X)\n",
    "\n",
    "Ans- func() Nonlocal variables are used in nested functions whose local scope is not defined. This means that the variable can be neither in the local nor the global scope. it print the updated value from nested function\n",
    "\n",
    "Solution : 'spam'\n"
   ]
  },
  {
   "cell_type": "code",
   "execution_count": 7,
   "id": "32b592c6",
   "metadata": {},
   "outputs": [
    {
     "name": "stdout",
     "output_type": "stream",
     "text": [
      "spam\n"
     ]
    }
   ],
   "source": [
    "\n",
    "def func():\n",
    "    X = 'NI'\n",
    "    def nested():\n",
    "        nonlocal X\n",
    "        X = 'spam'\n",
    "    nested()\n",
    "    print(X)\n",
    "\n",
    "func()"
   ]
  },
  {
   "cell_type": "code",
   "execution_count": null,
   "id": "76341953",
   "metadata": {},
   "outputs": [],
   "source": []
  }
 ],
 "metadata": {
  "kernelspec": {
   "display_name": "Python 3 (ipykernel)",
   "language": "python",
   "name": "python3"
  },
  "language_info": {
   "codemirror_mode": {
    "name": "ipython",
    "version": 3
   },
   "file_extension": ".py",
   "mimetype": "text/x-python",
   "name": "python",
   "nbconvert_exporter": "python",
   "pygments_lexer": "ipython3",
   "version": "3.9.7"
  }
 },
 "nbformat": 4,
 "nbformat_minor": 5
}
